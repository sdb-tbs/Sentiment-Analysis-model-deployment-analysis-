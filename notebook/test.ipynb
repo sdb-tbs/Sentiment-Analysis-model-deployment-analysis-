{
 "cells": [
  {
   "cell_type": "markdown",
   "source": [
    "This notebook will show you how to send POST requests to your application's endpoint and display the responses."
   ],
   "metadata": {
    "collapsed": false
   }
  },
  {
   "cell_type": "code",
   "execution_count": 1,
   "outputs": [],
   "source": [
    "import requests"
   ],
   "metadata": {
    "collapsed": false
   }
  },
  {
   "cell_type": "markdown",
   "source": [
    "Send a POST request to the application"
   ],
   "metadata": {
    "collapsed": false
   }
  },
  {
   "cell_type": "code",
   "execution_count": 13,
   "outputs": [],
   "source": [
    "# Since NGINX is forwarding requests to Flask, you use the NGINX port (80 by default)\n",
    "url = 'http://localhost/predict'\n",
    "\n",
    "# Define a sample input text\n",
    "data = {'text': 'I love learning things!'}\n",
    "response = requests.post(url, json=data)"
   ],
   "metadata": {
    "collapsed": false
   }
  },
  {
   "cell_type": "markdown",
   "source": [
    "Check if the request was successful"
   ],
   "metadata": {
    "collapsed": false
   }
  },
  {
   "cell_type": "code",
   "execution_count": 14,
   "outputs": [
    {
     "name": "stdout",
     "output_type": "stream",
     "text": [
      "Request successful.\n",
      "Response:\n",
      "{'sentiment': 'POSITIVE'}\n"
     ]
    }
   ],
   "source": [
    "if response.status_code == 200:\n",
    "    print('Request successful.')\n",
    "    print('Response:')\n",
    "    print(response.json())\n",
    "else:\n",
    "    print('Request failed.')\n",
    "    print('Status code:', response.status_code)\n",
    "    print('Response:', response.text)"
   ],
   "metadata": {
    "collapsed": false
   }
  },
  {
   "cell_type": "code",
   "execution_count": 15,
   "outputs": [
    {
     "name": "stdout",
     "output_type": "stream",
     "text": [
      "Request successful.\n",
      "Response:\n",
      "{'sentiment': 'NEGATIVE'}\n"
     ]
    }
   ],
   "source": [
    "data = {'text': 'I feel bad!'}\n",
    "response = requests.post(url, json=data)\n",
    "\n",
    "if response.status_code == 200:\n",
    "    print('Request successful.')\n",
    "    print('Response:')\n",
    "    print(response.json())\n",
    "else:\n",
    "    print('Request failed.')\n",
    "    print('Status code:', response.status_code)\n",
    "    print('Response:', response.text)"
   ],
   "metadata": {
    "collapsed": false
   }
  },
  {
   "cell_type": "code",
   "execution_count": null,
   "outputs": [],
   "source": [],
   "metadata": {
    "collapsed": false
   }
  }
 ],
 "metadata": {
  "kernelspec": {
   "display_name": "Python 3",
   "language": "python",
   "name": "python3"
  },
  "language_info": {
   "codemirror_mode": {
    "name": "ipython",
    "version": 2
   },
   "file_extension": ".py",
   "mimetype": "text/x-python",
   "name": "python",
   "nbconvert_exporter": "python",
   "pygments_lexer": "ipython2",
   "version": "2.7.6"
  }
 },
 "nbformat": 4,
 "nbformat_minor": 0
}
